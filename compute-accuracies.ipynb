{
 "cells": [
  {
   "cell_type": "code",
   "execution_count": null,
   "metadata": {},
   "outputs": [],
   "source": [
    "from lightning_simclr_cifar10 import SimCLR, eval\n",
    "\n",
    "paths = [\n",
    "    \"version_1\",\n",
    "    # \"version_2\",\n",
    "    \"version_3\",\n",
    "    \"version_4\",\n",
    "    \"version_5\"\n",
    "]\n",
    "name = \"/checkpoints/epoch=999-step=59000.ckpt\"\n",
    "\n",
    "paths = [\"logs/lightning_logs/\"+path for path in paths]\n",
    "\n",
    "\n",
    "for path in paths:\n",
    "    model = SimCLR.load_from_checkpoint(path+name)\n",
    "    eval(model, path)"
   ]
  }
 ],
 "metadata": {
  "kernelspec": {
   "display_name": "tsimcne",
   "language": "python",
   "name": "python3"
  },
  "language_info": {
   "codemirror_mode": {
    "name": "ipython",
    "version": 3
   },
   "file_extension": ".py",
   "mimetype": "text/x-python",
   "name": "python",
   "nbconvert_exporter": "python",
   "pygments_lexer": "ipython3",
   "version": "3.12.10"
  }
 },
 "nbformat": 4,
 "nbformat_minor": 2
}
