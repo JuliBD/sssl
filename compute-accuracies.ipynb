{
 "cells": [
  {
   "cell_type": "code",
   "execution_count": 2,
   "metadata": {},
   "outputs": [
    {
     "name": "stdout",
     "output_type": "stream",
     "text": [
      "env: CUDA_VISIBLE_DEVICES=2\n"
     ]
    }
   ],
   "source": [
    "%env CUDA_VISIBLE_DEVICES=2"
   ]
  },
  {
   "cell_type": "code",
   "execution_count": 8,
   "metadata": {},
   "outputs": [
    {
     "data": {
      "text/plain": [
       "['logs/Unbalanced-1000/exp_map/version_2/checkpoint/epoch=999.ckpt',\n",
       " 'logs/Unbalanced-1000/exp_map/version_0/checkpoint/epoch=999.ckpt',\n",
       " 'logs/Unbalanced-1000/exp_map/version_1/checkpoint/epoch=999.ckpt',\n",
       " 'logs/Unbalanced-1000/mono/version_2/checkpoint/epoch=999.ckpt',\n",
       " 'logs/Unbalanced-1000/mono/version_0/checkpoint/epoch=999.ckpt',\n",
       " 'logs/Unbalanced-1000/mono/version_1/checkpoint/epoch=999.ckpt',\n",
       " 'logs/Unbalanced-1000/l2/version_2/checkpoint/epoch=999.ckpt',\n",
       " 'logs/Unbalanced-1000/l2/version_3/checkpoint/epoch=999.ckpt',\n",
       " 'logs/Unbalanced-1000/l2/version_5/checkpoint/epoch=999.ckpt',\n",
       " 'logs/Unbalanced-1000/l2/version_7/checkpoint/epoch=999.ckpt',\n",
       " 'logs/Unbalanced-1000/l2/version_4/checkpoint/epoch=999.ckpt',\n",
       " 'logs/Unbalanced-1000/l2/version_0/checkpoint/epoch=999.ckpt',\n",
       " 'logs/Unbalanced-1000/l2/version_6/checkpoint/epoch=999.ckpt',\n",
       " 'logs/Unbalanced-1000/l2/version_1/checkpoint/epoch=999.ckpt',\n",
       " 'logs/Unbalanced-1000/l2/version_8/checkpoint/epoch=999.ckpt',\n",
       " 'logs/Unbalanced-1000/stereo/version_3/checkpoint/epoch=999.ckpt',\n",
       " 'logs/Unbalanced-1000/stereo/version_0/checkpoint/epoch=999.ckpt',\n",
       " 'logs/Unbalanced-1000/stereo/version_1/checkpoint/epoch=999.ckpt']"
      ]
     },
     "execution_count": 8,
     "metadata": {},
     "output_type": "execute_result"
    }
   ],
   "source": [
    "import os\n",
    "name = \"epoch=999.ckpt\"\n",
    "log_dir = \"logs/Unbalanced-1000\"\n",
    "fully_trained_ckpt_paths = []\n",
    "for (root,dirs,files) in os.walk(log_dir, topdown=True):\n",
    "    if name in files:\n",
    "        fully_trained_ckpt_paths.append(root+\"/\"+name)\n",
    "fully_trained_ckpt_paths"
   ]
  },
  {
   "cell_type": "code",
   "execution_count": null,
   "metadata": {},
   "outputs": [
    {
     "name": "stdout",
     "output_type": "stream",
     "text": [
      "l2\n",
      "cut: 1\n",
      "cifar10_unbalanced, knn acc: 0.5837\n",
      "\n"
     ]
    }
   ],
   "source": [
    "from lightning_simclr import SimCLR\n",
    "from data_utils import get_train_and_test_set, CIFAR10, CIFAR10_Unbalanced\n",
    "import os\n",
    "name = \"epoch=499.ckpt\"\n",
    "conidtion2 = \"version_5\"\n",
    "log_dir = \"logs/Unbalanced-1000\"\n",
    "specific_ckpts = []\n",
    "for (root,dirs,files) in os.walk(log_dir, topdown=True):\n",
    "    if name in files:\n",
    "        if conidtion2 in root:\n",
    "            specific_ckpts.append(root+\"/\"+name)\n",
    "print(specific_ckpts)\n",
    "\n",
    "def get_accs_for_ckpts(\n",
    "        ckpt_paths,\n",
    "        knn_datasets = {\"cifar10_unbalanced\": CIFAR10_Unbalanced}\n",
    "        ):\n",
    "    acc_dict = {key:{} for key in knn_datasets.keys()}\n",
    "    for ckpt in ckpt_paths:\n",
    "        mod = SimCLR.load_from_checkpoint(ckpt, strict=False)\n",
    "        print(mod.norm_function_str)\n",
    "        print(\"cut:\", mod.hparams[\"cut\"])\n",
    "        for dataset_name, Dataset in knn_datasets.items():\n",
    "            train, test = get_train_and_test_set(Dataset)\n",
    "            acc = mod.get_knn_acc(train, test, n_neighbors=200)\n",
    "            acc_dict[dataset_name] = acc\n",
    "            print(f\"{dataset_name}, knn acc:\", acc)\n",
    "        print()\n",
    "    return acc_dict\n",
    "\n",
    "acc_dict = get_accs_for_ckpts(specific_ckpts)"
   ]
  },
  {
   "cell_type": "code",
   "execution_count": 40,
   "metadata": {},
   "outputs": [
    {
     "name": "stdout",
     "output_type": "stream",
     "text": [
      "exp_map\n",
      "cut: 1\n",
      "cifar10_unbalanced, knn acc: 0.5903\n",
      "\n",
      "mono\n",
      "cut: 1\n",
      "cifar10_unbalanced, knn acc: 0.6137\n",
      "\n",
      "l2\n",
      "cut: 3\n",
      "cifar10_unbalanced, knn acc: 0.6325\n",
      "\n",
      "stereo\n",
      "cut: 1\n",
      "cifar10_unbalanced, knn acc: 0.6132\n",
      "\n"
     ]
    }
   ],
   "source": [
    "from lightning_simclr import SimCLR\n",
    "from data_utils import get_train_and_test_set, CIFAR10, CIFAR10_Unbalanced\n",
    "import os\n",
    "name = \"epoch=999.ckpt\"\n",
    "conidtion2 = \"version_0\"\n",
    "log_dir = \"logs/Unbalanced-1000\"\n",
    "specific_ckpts = []\n",
    "for (root,dirs,files) in os.walk(log_dir, topdown=True):\n",
    "    if name in files:\n",
    "        if conidtion2 in root:\n",
    "            specific_ckpts.append(root+\"/\"+name)\n",
    "\n",
    "\n",
    "def get_accs_for_ckpts(\n",
    "        ckpt_paths,\n",
    "        knn_datasets = {\"cifar10_unbalanced\": CIFAR10_Unbalanced}\n",
    "        ):\n",
    "    acc_dict = {key:{} for key in knn_datasets.keys()}\n",
    "    for ckpt in ckpt_paths:\n",
    "        mod = SimCLR.load_from_checkpoint(ckpt, strict=False)\n",
    "        print(mod.norm_function_str)\n",
    "        print(\"cut:\", mod.hparams[\"cut\"])\n",
    "        for dataset_name, Dataset in knn_datasets.items():\n",
    "            train, test = get_train_and_test_set(Dataset)\n",
    "            acc = mod.get_knn_acc(train, test, n_neighbors=200)\n",
    "            acc_dict[dataset_name] = acc\n",
    "            print(f\"{dataset_name}, knn acc:\", acc)\n",
    "        print()\n",
    "    return acc_dict\n",
    "\n",
    "acc_dict = get_accs_for_ckpts(specific_ckpts)"
   ]
  },
  {
   "cell_type": "code",
   "execution_count": null,
   "metadata": {},
   "outputs": [],
   "source": [
    "import numpy as np\n",
    "\n",
    "\n",
    "def mean_var(arr):\n",
    "    print(\"mean:\", np.mean(arr).item()*100, \"std:\", f\"{np.std(arr).item()*100:.5f}\")\n",
    "\n",
    "# Unbalanced Cifar10\n",
    "acc_500 = dict(\n",
    "    l2 = [0.656, 0.662, 0.653],\n",
    "    cut3 = [0.653, 0.637, 0.649],\n",
    "    exp_map = [0.613, 0.621, 0.624],\n",
    "    stereo = [0.631, 0.627, 0.629],\n",
    "    mono = [0.639, 0.642, 0.637],\n",
    "    # grad_scale = []\n",
    ")\n",
    "\n",
    "for key, value in acc_500.items():\n",
    "    print(key)\n",
    "    mean_var(value)\n",
    "print()\n",
    "\n",
    "acc_1k = dict(\n",
    "    l2 = [0.689, 0.691, 0.693],\n",
    "    cut3 = [0.69, 0.697, 0.695],\n",
    "    exp_map = [0.648, 0.641, 0.639],\n",
    "    stereo = [0.643, 0.642, 0.646],\n",
    "    mono = [0.653, 0.656, 0.665],\n",
    "    # grad_scale = []\n",
    ")\n",
    "\n",
    "for key, value in acc_1k.items():\n",
    "    print(key)\n",
    "    mean_var(value)"
   ]
  },
  {
   "cell_type": "markdown",
   "metadata": {},
   "source": [
    "### Unbalanced Cifar10\n",
    "A Cifar10 version where datapoints where systematically removed to make it unbalanced.  \n",
    "For each variant three seeds were tested. The numbers shown in the table are: **Mean $\\pm$ Std.**\n",
    "\n",
    "| Epoch (out of 1000)     | L2   (Baseline)             | Cut                  | Exp Map              | Stereo            | Mono                 |\n",
    "|------------------|-------------------|----------------------|----------------------|-------------------|----------------------|\n",
    "| 500| **65.7 ± 0.37** | 64.3333 ± 0.67 | 61.9333 ± 0.46 | 62.9 ± 0.16 | 63.9333 ± 0.20 |  \n",
    "| 1000 | 69.1 ± 0.16 | **69.4 ± 0.29** | 64.2666 ± 0.38 | 64.3666 ± 0.16 | 65.8 ± 0.5 |"
   ]
  },
  {
   "cell_type": "code",
   "execution_count": null,
   "metadata": {},
   "outputs": [],
   "source": [
    "import numpy as np\n",
    "\n",
    "\n",
    "def mean_var(arr):\n",
    "    print(\"mean:\", np.mean(arr).item()*100, \"std:\", f\"{np.std(arr).item()*100:.5f}\")\n",
    "\n",
    "# Cifar10\n",
    "acc_500 = dict(\n",
    "    l2 = [0.87, 0.871, 0.869],\n",
    "    cut3 = [0.868, 0.869, 0.865],\n",
    "    exp_map = [0.854, 0.854, 0.855],\n",
    "    stereo = [0.864, 0.862, 0.864],\n",
    "    mono = [0.865, 0.866, 0.867],\n",
    "    # grad_scale = []\n",
    ")\n",
    "print(\"epoch 500:\")\n",
    "for key, value in acc_500.items():\n",
    "    print(key)\n",
    "    mean_var(value)\n",
    "print()\n",
    "\n",
    "acc_1k = dict(\n",
    "    l2 = [0.9018, 0.9047, 0.9026],\n",
    "    cut3 = [0.901, 0.9045, 0.9036],\n",
    "    exp_map = [0.8954, 0.8989, 0.8956],\n",
    "    stereo = [0.9017, 0.9023, 0.902],\n",
    "    mono = [0.9005, 0.9057, 0.9008],\n",
    "    # grad_scale = []\n",
    ")\n",
    "print(\"epoch 1000:\")\n",
    "for key, value in acc_1k.items():\n",
    "    print(key)\n",
    "    mean_var(value)"
   ]
  },
  {
   "cell_type": "markdown",
   "metadata": {},
   "source": [
    "### Cifar10\n",
    "For each variant three seeds were tested. The numbers shown in the table are: **Mean ± Std.**\n",
    "\n",
    "| Epoch (out of 1000)   | L2 (Baseline)  | Cut          | Exp Map          | Stereo        | Mono              |\n",
    "|------------------|----------------|--------------|------------------|---------------|-------------------|\n",
    "| 500  | **87 ± 0.08** | 86.73 ± 0.16 | 85.43 ± 0.04  | 86.33 ± 0.09 | 86.6 ± 0.08 | \n",
    "| 1000 | **90.30 ± 0.12** |**90.30 ± 0.14** | 89.66 ± 0.16  | 90.2 ± 0.24 | 90.23 ± 0.23 |"
   ]
  }
 ],
 "metadata": {
  "kernelspec": {
   "display_name": ".venv",
   "language": "python",
   "name": "python3"
  },
  "language_info": {
   "codemirror_mode": {
    "name": "ipython",
    "version": 3
   },
   "file_extension": ".py",
   "mimetype": "text/x-python",
   "name": "python",
   "nbconvert_exporter": "python",
   "pygments_lexer": "ipython3",
   "version": "3.12.10"
  }
 },
 "nbformat": 4,
 "nbformat_minor": 2
}
