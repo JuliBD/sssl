{
 "cells": [
  {
   "cell_type": "code",
   "execution_count": 1,
   "metadata": {},
   "outputs": [
    {
     "name": "stdout",
     "output_type": "stream",
     "text": [
      "Computing features for evaluation\n",
      "kNN accuracy (Euclidean): 0.9146\n",
      "kNN accuracy (cosine): 0.9175\n",
      "kNN accuracy (cosine), Z: 0.9088\n",
      "kNN accuracy (cosine), Z after normalization: 0.9110\n",
      "Linear accuracy (saga/no-penalty): 0.9291\n"
     ]
    },
    {
     "name": "stderr",
     "output_type": "stream",
     "text": [
      "/gpfs01/berens/user/jdoehl/tsimcne/lib/python3.12/site-packages/sklearn/linear_model/_sag.py:348: ConvergenceWarning: The max_iter was reached which means the coef_ did not converge\n",
      "  warnings.warn(\n"
     ]
    },
    {
     "name": "stdout",
     "output_type": "stream",
     "text": [
      "Computing features for evaluation\n",
      "kNN accuracy (Euclidean): 0.904\n",
      "kNN accuracy (cosine): 0.9026\n",
      "kNN accuracy (cosine), Z: 0.8936\n",
      "kNN accuracy (cosine), Z after normalization: 0.8989\n",
      "Linear accuracy (saga/no-penalty): 0.9188\n"
     ]
    },
    {
     "name": "stderr",
     "output_type": "stream",
     "text": [
      "/gpfs01/berens/user/jdoehl/tsimcne/lib/python3.12/site-packages/sklearn/linear_model/_sag.py:348: ConvergenceWarning: The max_iter was reached which means the coef_ did not converge\n",
      "  warnings.warn(\n"
     ]
    },
    {
     "name": "stdout",
     "output_type": "stream",
     "text": [
      "Computing features for evaluation\n",
      "kNN accuracy (Euclidean): 0.8308\n",
      "kNN accuracy (cosine): 0.8308\n",
      "kNN accuracy (cosine), Z: 0.8200\n",
      "kNN accuracy (cosine), Z after normalization: 0.8268\n",
      "Linear accuracy (saga/no-penalty): 0.8807\n"
     ]
    },
    {
     "name": "stderr",
     "output_type": "stream",
     "text": [
      "/gpfs01/berens/user/jdoehl/tsimcne/lib/python3.12/site-packages/sklearn/linear_model/_sag.py:348: ConvergenceWarning: The max_iter was reached which means the coef_ did not converge\n",
      "  warnings.warn(\n"
     ]
    },
    {
     "name": "stdout",
     "output_type": "stream",
     "text": [
      "Computing features for evaluation\n",
      "kNN accuracy (Euclidean): 0.9138\n",
      "kNN accuracy (cosine): 0.9162\n",
      "kNN accuracy (cosine), Z: 0.9089\n",
      "kNN accuracy (cosine), Z after normalization: 0.9089\n",
      "Linear accuracy (saga/no-penalty): 0.9269\n"
     ]
    },
    {
     "name": "stderr",
     "output_type": "stream",
     "text": [
      "/gpfs01/berens/user/jdoehl/tsimcne/lib/python3.12/site-packages/sklearn/linear_model/_sag.py:348: ConvergenceWarning: The max_iter was reached which means the coef_ did not converge\n",
      "  warnings.warn(\n"
     ]
    }
   ],
   "source": [
    "from lightning_simclr_cifar10 import SimCLR, eval\n",
    "\n",
    "paths = [\n",
    "    \"version_1\",\n",
    "    # \"version_2\",\n",
    "    \"version_3\",\n",
    "    \"version_4\",\n",
    "    \"version_5\"\n",
    "]\n",
    "name = \"/checkpoints/epoch=999-step=59000.ckpt\"\n",
    "paths = [\"logs/lightning_logs/\"+path for path in paths]\n",
    "\n",
    "\n",
    "for path in paths:\n",
    "    model = SimCLR.load_from_checkpoint(path+name)\n",
    "    eval(model, path)"
   ]
  }
 ],
 "metadata": {
  "kernelspec": {
   "display_name": "tsimcne",
   "language": "python",
   "name": "python3"
  },
  "language_info": {
   "codemirror_mode": {
    "name": "ipython",
    "version": 3
   },
   "file_extension": ".py",
   "mimetype": "text/x-python",
   "name": "python",
   "nbconvert_exporter": "python",
   "pygments_lexer": "ipython3",
   "version": "3.12.10"
  }
 },
 "nbformat": 4,
 "nbformat_minor": 2
}
