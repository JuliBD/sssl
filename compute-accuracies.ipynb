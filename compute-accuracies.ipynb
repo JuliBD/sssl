{
 "cells": [
  {
   "cell_type": "code",
   "execution_count": 1,
   "metadata": {},
   "outputs": [
    {
     "name": "stdout",
     "output_type": "stream",
     "text": [
      "env: CUDA_VISIBLE_DEVICES=1\n"
     ]
    }
   ],
   "source": [
    "%env CUDA_VISIBLE_DEVICES=1\n",
    "# %cd GitHub/sssl/"
   ]
  },
  {
   "cell_type": "code",
   "execution_count": 2,
   "metadata": {},
   "outputs": [],
   "source": [
    "from torchvision.datasets import CIFAR100\n",
    "import torchvision.transforms as transforms\n",
    "data_root = \"data/\"\n",
    "\n",
    "cifar100_train = CIFAR100(\n",
    "    root=data_root, train=True, download=True, transform=transforms.ToTensor()\n",
    ")\n",
    "cifar100_test = CIFAR100(\n",
    "    root=data_root, train=False, transform=transforms.ToTensor()\n",
    ")"
   ]
  },
  {
   "cell_type": "code",
   "execution_count": 8,
   "metadata": {},
   "outputs": [
    {
     "data": {
      "text/plain": [
       "['logs/SimCLR-l2/version_-0/checkpoints/epoch=999-step=59000.ckpt',\n",
       " 'logs/SimCLR-l2/version_2/checkpoints/epoch=999-step=59000.ckpt',\n",
       " 'logs/SimCLR-angle2/version_-0/checkpoints/epoch=999-step=59000.ckpt',\n",
       " 'logs/SimCLR-exp_map/version_-0/checkpoints/epoch=999-step=59000.ckpt',\n",
       " 'logs/SimCLR-exp_map/version_2/checkpoints/epoch=999-step=59000.ckpt',\n",
       " 'logs/SimCLR-exp_map/version_-1/checkpoints/epoch=999-step=59000.ckpt',\n",
       " 'logs/Comparisons/exp_map/version_1/checkpoint/epoch=999.ckpt',\n",
       " 'logs/Comparisons/angle2/version_1/checkpoint/epoch=999.ckpt',\n",
       " 'logs/Comparisons/l2/version_1/checkpoint/epoch=999.ckpt',\n",
       " 'logs/Comparisons/stereo/version_1/checkpoint/epoch=999.ckpt',\n",
       " 'logs/SimCLR-stereo/version_-0/checkpoints/epoch=999-step=59000.ckpt']"
      ]
     },
     "execution_count": 8,
     "metadata": {},
     "output_type": "execute_result"
    }
   ],
   "source": [
    "import os\n",
    "name = \"epoch=999-step=59000.ckpt\"\n",
    "name2 = \"epoch=999.ckpt\"\n",
    "log_dir = \"logs/\"\n",
    "fully_trained_ckpt_paths = []\n",
    "for (root,dirs,files) in os.walk(log_dir, topdown=True):\n",
    "    if name in files:\n",
    "        fully_trained_ckpt_paths.append(root+\"/\"+name)\n",
    "    if name2 in files:\n",
    "        fully_trained_ckpt_paths.append(root+\"/\"+name2)\n",
    "fully_trained_ckpt_paths"
   ]
  },
  {
   "cell_type": "code",
   "execution_count": null,
   "metadata": {},
   "outputs": [],
   "source": [
    "from lightning_simclr import SimCLR\n",
    "\n",
    "failed_exp_map = \"logs/SimCLR-exp_map/version_-1/checkpoints/epoch=999-step=59000.ckpt\"\n",
    "model = SimCLR.load_from_checkpoint(failed_exp_map, strict=False)"
   ]
  },
  {
   "cell_type": "code",
   "execution_count": null,
   "metadata": {},
   "outputs": [
    {
     "data": {
      "text/plain": [
       "device(type='cuda', index=0)"
      ]
     },
     "execution_count": 5,
     "metadata": {},
     "output_type": "execute_result"
    }
   ],
   "source": [
    "from lightning_simclr import dataset_to_X_y\n",
    "from data_utils import cifar10_train, cifar10_test\n",
    "import torch\n",
    "train_dataset = cifar10_train\n",
    "test_dataset = cifar10_test\n",
    "device = model.device()\n",
    "\n",
    "model.eval()\n",
    "    \n",
    "with torch.no_grad():\n",
    "    X_train, y_train, Z_train = dataset_to_X_y(train_dataset, model, device)\n",
    "    X_test, y_test, Z_test = dataset_to_X_y(test_dataset, model, device)"
   ]
  },
  {
   "cell_type": "code",
   "execution_count": null,
   "metadata": {},
   "outputs": [
    {
     "name": "stdout",
     "output_type": "stream",
     "text": [
      "logs/SimCLR-l2/version_-0/checkpoints\n",
      "Computing features for evaluation\n",
      "kNN accuracy (Euclidean): 0.3346\n",
      "kNN accuracy (cosine): 0.3442\n",
      "kNN accuracy (cosine), Z: 0.2571\n",
      "kNN accuracy (cosine), Z after normalization: 0.2571\n",
      "logs/SimCLR-l2/version_2/checkpoints\n",
      "Computing features for evaluation\n",
      "kNN accuracy (Euclidean): 0.3241\n",
      "kNN accuracy (cosine): 0.3420\n",
      "kNN accuracy (cosine), Z: 0.2467\n",
      "kNN accuracy (cosine), Z after normalization: 0.2467\n",
      "logs/SimCLR-angle2/version_-0/checkpoints\n",
      "Computing features for evaluation\n",
      "kNN accuracy (Euclidean): 0.3279\n",
      "kNN accuracy (cosine): 0.3302\n",
      "kNN accuracy (cosine), Z: 0.2782\n",
      "kNN accuracy (cosine), Z after normalization: 0.2883\n",
      "logs/SimCLR-exp_map/version_-0/checkpoints\n",
      "Computing features for evaluation\n",
      "kNN accuracy (Euclidean): 0.1968\n",
      "kNN accuracy (cosine): 0.1969\n",
      "kNN accuracy (cosine), Z: 0.1635\n",
      "kNN accuracy (cosine), Z after normalization: 0.1832\n",
      "logs/SimCLR-exp_map/version_2/checkpoints\n",
      "Computing features for evaluation\n",
      "kNN accuracy (Euclidean): 0.3171\n",
      "kNN accuracy (cosine): 0.3160\n",
      "kNN accuracy (cosine), Z: 0.2847\n",
      "kNN accuracy (cosine), Z after normalization: 0.2908\n",
      "logs/SimCLR-exp_map/version_-1/checkpoints\n",
      "Computing features for evaluation\n",
      "kNN accuracy (Euclidean): 0.01\n",
      "kNN accuracy (cosine): 0.0100\n",
      "kNN accuracy (cosine), Z: 0.0100\n",
      "kNN accuracy (cosine), Z after normalization: 0.0100\n",
      "logs/SimCLR-stereo/version_-0/checkpoints\n",
      "Computing features for evaluation\n",
      "kNN accuracy (Euclidean): 0.3315\n",
      "kNN accuracy (cosine): 0.3308\n",
      "kNN accuracy (cosine), Z: 0.2840\n",
      "kNN accuracy (cosine), Z after normalization: 0.2831\n"
     ]
    }
   ],
   "source": [
    "from lightning_simclr import SimCLR, eval\n",
    "\n",
    "for ckpt_path in fully_trained_ckpt_paths:\n",
    "    print(ckpt_path)\n",
    "    model = SimCLR.load_from_checkpoint(ckpt_path+\"/\"+name)\n",
    "    eval(model, ckpt_path, save_accuracies=False, train_dataset=cifar100_train, test_dataset=cifar100_test)"
   ]
  },
  {
   "cell_type": "code",
   "execution_count": 3,
   "metadata": {},
   "outputs": [
    {
     "name": "stdout",
     "output_type": "stream",
     "text": [
      "logs/SimCLR-l2/version_-0/checkpoints\n",
      "Computing features for evaluation\n",
      "kNN accuracy (Euclidean): 0.9137\n",
      "kNN accuracy (cosine): 0.9162\n",
      "kNN accuracy (cosine), Z: 0.9086\n",
      "kNN accuracy (cosine), Z after normalization: 0.9086\n",
      "logs/SimCLR-l2/version_2/checkpoints\n",
      "Computing features for evaluation\n",
      "kNN accuracy (Euclidean): 0.916\n",
      "kNN accuracy (cosine): 0.9208\n",
      "kNN accuracy (cosine), Z: 0.9125\n",
      "kNN accuracy (cosine), Z after normalization: 0.9125\n",
      "logs/SimCLR-angle2/version_-0/checkpoints\n",
      "Computing features for evaluation\n",
      "kNN accuracy (Euclidean): 0.904\n",
      "kNN accuracy (cosine): 0.9025\n",
      "kNN accuracy (cosine), Z: 0.8936\n",
      "kNN accuracy (cosine), Z after normalization: 0.8987\n",
      "logs/SimCLR-exp_map/version_-0/checkpoints\n",
      "Computing features for evaluation\n",
      "kNN accuracy (Euclidean): 0.8307\n",
      "kNN accuracy (cosine): 0.8308\n",
      "kNN accuracy (cosine), Z: 0.8200\n",
      "kNN accuracy (cosine), Z after normalization: 0.8269\n",
      "logs/SimCLR-exp_map/version_2/checkpoints\n",
      "Computing features for evaluation\n",
      "kNN accuracy (Euclidean): 0.9131\n",
      "kNN accuracy (cosine): 0.9120\n",
      "kNN accuracy (cosine), Z: 0.9076\n",
      "kNN accuracy (cosine), Z after normalization: 0.9090\n",
      "logs/SimCLR-exp_map/version_-1/checkpoints\n",
      "Computing features for evaluation\n",
      "kNN accuracy (Euclidean): 0.1\n",
      "kNN accuracy (cosine): 0.1000\n",
      "kNN accuracy (cosine), Z: 0.1000\n",
      "kNN accuracy (cosine), Z after normalization: 0.1000\n",
      "logs/SimCLR-stereo/version_-0/checkpoints\n",
      "Computing features for evaluation\n",
      "kNN accuracy (Euclidean): 0.9144\n",
      "kNN accuracy (cosine): 0.9175\n",
      "kNN accuracy (cosine), Z: 0.9089\n",
      "kNN accuracy (cosine), Z after normalization: 0.9111\n"
     ]
    }
   ],
   "source": [
    "from lightning_simclr_cifar10 import SimCLR, eval\n",
    "\n",
    "for ckpt_path in fully_trained_ckpt_paths:\n",
    "    print(ckpt_path)\n",
    "    model = SimCLR.load_from_checkpoint(ckpt_path+\"/\"+name)\n",
    "    eval(model, ckpt_path, save_accuracies=False)"
   ]
  },
  {
   "cell_type": "code",
   "execution_count": 7,
   "metadata": {},
   "outputs": [],
   "source": [
    "from torchvision.datasets import CIFAR10, CIFAR100, Flowers102, StanfordCars"
   ]
  },
  {
   "cell_type": "code",
   "execution_count": null,
   "metadata": {},
   "outputs": [
    {
     "name": "stderr",
     "output_type": "stream",
     "text": [
      "100%|██████████| 345M/345M [00:08<00:00, 38.8MB/s] \n",
      "100%|██████████| 502/502 [00:00<00:00, 1.39MB/s]\n",
      "100%|██████████| 15.0k/15.0k [00:00<00:00, 57.4MB/s]\n"
     ]
    }
   ],
   "source": [
    "data_root = \"data/\"\n",
    "flowers102_train = Flowers102(\n",
    "    root=data_root, split=\"train\", download=True, transform=transforms.ToTensor()\n",
    ")\n",
    "flowers102_test = Flowers102(\n",
    "    root=data_root, split=\"test\", download=True, transform=transforms.ToTensor()\n",
    ")"
   ]
  },
  {
   "cell_type": "code",
   "execution_count": 20,
   "metadata": {},
   "outputs": [
    {
     "data": {
      "text/plain": [
       "Dataset Flowers102\n",
       "    Number of datapoints: 6149\n",
       "    Root location: data/\n",
       "    split=test\n",
       "    StandardTransform\n",
       "Transform: ToTensor()"
      ]
     },
     "execution_count": 20,
     "metadata": {},
     "output_type": "execute_result"
    }
   ],
   "source": [
    "flowers102_test"
   ]
  }
 ],
 "metadata": {
  "kernelspec": {
   "display_name": ".venv",
   "language": "python",
   "name": "python3"
  },
  "language_info": {
   "codemirror_mode": {
    "name": "ipython",
    "version": 3
   },
   "file_extension": ".py",
   "mimetype": "text/x-python",
   "name": "python",
   "nbconvert_exporter": "python",
   "pygments_lexer": "ipython3",
   "version": "3.12.10"
  }
 },
 "nbformat": 4,
 "nbformat_minor": 2
}
